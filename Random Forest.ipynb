{
 "cells": [
  {
   "cell_type": "markdown",
   "metadata": {},
   "source": [
    "# Random Forest Titanic Kaggle"
   ]
  },
  {
   "cell_type": "code",
   "execution_count": 65,
   "metadata": {},
   "outputs": [],
   "source": [
    "import numpy as np\n",
    "import pandas as pd\n",
    "from sklearn import tree\n",
    "from sklearn.ensemble import RandomForestClassifier"
   ]
  },
  {
   "cell_type": "code",
   "execution_count": 73,
   "metadata": {},
   "outputs": [],
   "source": [
    "train_url = \"http://s3.amazonaws.com/assets.datacamp.com/course/Kaggle/train.csv\"\n",
    "train = pd.read_csv(train_url)\n",
    "\n",
    "test_url = \"http://s3.amazonaws.com/assets.datacamp.com/course/Kaggle/test.csv\"\n",
    "test=pd.read_csv(test_url)\n",
    "\n"
   ]
  },
  {
   "cell_type": "code",
   "execution_count": 74,
   "metadata": {},
   "outputs": [
    {
     "name": "stderr",
     "output_type": "stream",
     "text": [
      "c:\\users\\andrea1\\desktop\\project3\\environment3\\lib\\site-packages\\ipykernel_launcher.py:6: SettingWithCopyWarning: \n",
      "A value is trying to be set on a copy of a slice from a DataFrame\n",
      "\n",
      "See the caveats in the documentation: http://pandas.pydata.org/pandas-docs/stable/indexing.html#indexing-view-versus-copy\n",
      "  \n",
      "c:\\users\\andrea1\\desktop\\project3\\environment3\\lib\\site-packages\\ipykernel_launcher.py:7: SettingWithCopyWarning: \n",
      "A value is trying to be set on a copy of a slice from a DataFrame\n",
      "\n",
      "See the caveats in the documentation: http://pandas.pydata.org/pandas-docs/stable/indexing.html#indexing-view-versus-copy\n",
      "  import sys\n",
      "c:\\users\\andrea1\\desktop\\project3\\environment3\\lib\\site-packages\\ipykernel_launcher.py:12: SettingWithCopyWarning: \n",
      "A value is trying to be set on a copy of a slice from a DataFrame\n",
      "\n",
      "See the caveats in the documentation: http://pandas.pydata.org/pandas-docs/stable/indexing.html#indexing-view-versus-copy\n",
      "  if sys.path[0] == '':\n",
      "c:\\users\\andrea1\\desktop\\project3\\environment3\\lib\\site-packages\\ipykernel_launcher.py:13: SettingWithCopyWarning: \n",
      "A value is trying to be set on a copy of a slice from a DataFrame\n",
      "\n",
      "See the caveats in the documentation: http://pandas.pydata.org/pandas-docs/stable/indexing.html#indexing-view-versus-copy\n",
      "  del sys.path[0]\n",
      "c:\\users\\andrea1\\desktop\\project3\\environment3\\lib\\site-packages\\ipykernel_launcher.py:14: SettingWithCopyWarning: \n",
      "A value is trying to be set on a copy of a slice from a DataFrame\n",
      "\n",
      "See the caveats in the documentation: http://pandas.pydata.org/pandas-docs/stable/indexing.html#indexing-view-versus-copy\n",
      "  \n"
     ]
    }
   ],
   "source": [
    "#Eliminamos los NA de los datos, en el caso de Age se llenan con la mediana y para Embarked se usa la clase mas comun \"S\"\n",
    "\n",
    "\n",
    "train[\"Age\"] = train[\"Age\"].fillna(train[\"Age\"].median())\n",
    "\n",
    "train[\"Sex\"][train[\"Sex\"] == \"male\"] = 0\n",
    "train[\"Sex\"][train[\"Sex\"] == \"female\"] = 1\n",
    "\n",
    "train[\"Embarked\"] = train[\"Embarked\"].fillna(\"S\")\n",
    "\n",
    "#Se les da un formato numerico a las variables categoricas de Sex y Embarked\n",
    "train[\"Embarked\"][train[\"Embarked\"] == \"S\"] = 0\n",
    "train[\"Embarked\"][train[\"Embarked\"] == \"C\"] = 1\n",
    "train[\"Embarked\"][train[\"Embarked\"] == \"Q\"] = 2\n",
    "\n",
    "#Agregamos una nueva variable de tamano de familia que sume SibSp y Parch + 1 que es la observacion\n",
    "train[\"family_size\"] = train[\"SibSp\"]+train[\"Parch\"]+1\n",
    "\n"
   ]
  },
  {
   "cell_type": "markdown",
   "metadata": {},
   "source": [
    "# Arbol"
   ]
  },
  {
   "cell_type": "code",
   "execution_count": 86,
   "metadata": {},
   "outputs": [],
   "source": [
    "# Variable respuesta= target \n",
    "target = train[\"Survived\"].values\n",
    "features = train[[\"Pclass\", \"Age\", \"Sex\", \"Fare\", \"SibSp\", \"Parch\", \"Embarked\",\"family_size\"]].values\n",
    "\n",
    "# Crear el modelo \n",
    "my_tree = tree.DecisionTreeClassifier(max_depth =10, min_samples_split = 5, random_state = 1)\n",
    "my_tree = my_tree.fit(features,target)\n"
   ]
  },
  {
   "cell_type": "markdown",
   "metadata": {},
   "source": [
    "# Bosque"
   ]
  },
  {
   "cell_type": "code",
   "execution_count": 87,
   "metadata": {},
   "outputs": [],
   "source": [
    "# Creamos el bosque con 100 arboles\n",
    "my_forest = RandomForestClassifier(max_depth = 10, min_samples_split=2, n_estimators =100, random_state = 1)\n",
    "my_forest = forest.fit(features, target)\n"
   ]
  },
  {
   "cell_type": "code",
   "execution_count": 89,
   "metadata": {},
   "outputs": [
    {
     "name": "stdout",
     "output_type": "stream",
     "text": [
      "DECISION TREE\n",
      "Importancia de las variables: Pclass, Age, Sex, Fare, SibSp, Parch, Embarked,family_size\n",
      "[ 0.14273305  0.1399201   0.42038042  0.1772731   0.03531242  0.0098429\n",
      "  0.01290372  0.06163429]\n",
      "Accuracy\n",
      "0.903479236813\n",
      "FOREST\n",
      "Importancia de las variables: Pclass, Age, Sex, Fare, SibSp, Parch, Embarked,family_size\n",
      "[ 0.09705062  0.20318661  0.31026455  0.22647869  0.03453249  0.02993957\n",
      "  0.03592834  0.06261913]\n",
      "Accuracy\n",
      "0.939393939394\n"
     ]
    }
   ],
   "source": [
    "\n",
    "print (\"DECISION TREE\")\n",
    "print(\"Importancia de las variables: Pclass, Age, Sex, Fare, SibSp, Parch, Embarked,family_size\")\n",
    "print(my_tree.feature_importances_)\n",
    "print(\"Accuracy\")\n",
    "print(my_tree.score(features, target))\n",
    "\n",
    "\n",
    "print (\"FOREST\")\n",
    "print(\"Importancia de las variables: Pclass, Age, Sex, Fare, SibSp, Parch, Embarked,family_size\")\n",
    "print(my_forest.feature_importances_)\n",
    "print(\"Accuracy\")\n",
    "print(my_forest.score(features, target))\n",
    "\n",
    "\n"
   ]
  },
  {
   "cell_type": "markdown",
   "metadata": {},
   "source": [
    "Comparando la precision en ambos modelos, podemos ver como en el random forest es mayor."
   ]
  },
  {
   "cell_type": "code",
   "execution_count": null,
   "metadata": {},
   "outputs": [],
   "source": []
  }
 ],
 "metadata": {
  "kernelspec": {
   "display_name": "Python 3",
   "language": "python",
   "name": "python3"
  },
  "language_info": {
   "codemirror_mode": {
    "name": "ipython",
    "version": 3
   },
   "file_extension": ".py",
   "mimetype": "text/x-python",
   "name": "python",
   "nbconvert_exporter": "python",
   "pygments_lexer": "ipython3",
   "version": "3.6.3"
  }
 },
 "nbformat": 4,
 "nbformat_minor": 2
}
